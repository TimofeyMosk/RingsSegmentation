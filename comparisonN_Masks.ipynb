{
 "cells": [
  {
   "cell_type": "code",
   "execution_count": 1,
   "metadata": {},
   "outputs": [],
   "source": [
    "from ultralytics import YOLO\n",
    " # Можно заменить 'yolov8s-seg.pt' на 'yolov8m-seg.pt' или другую версию\n",
    "import torch\n",
    "import numpy as np\n",
    "import cv2\n",
    "from scipy.spatial.distance import directed_hausdorff"
   ]
  },
  {
   "cell_type": "code",
   "execution_count": 2,
   "metadata": {},
   "outputs": [
    {
     "data": {
      "text/plain": [
       "{0: 'redOring', 1: 'YellowOring', 2: 'GreyOring'}"
      ]
     },
     "execution_count": 2,
     "metadata": {},
     "output_type": "execute_result"
    }
   ],
   "source": [
    "model = YOLO('s70.pt') \n",
    "model.names"
   ]
  },
  {
   "cell_type": "code",
   "execution_count": 6,
   "metadata": {},
   "outputs": [],
   "source": [
    "\n",
    "import numpy as np\n",
    "import cv2\n",
    "from scipy.spatial.distance import directed_hausdorff\n",
    "\n",
    "# Функция для выполнения операции \"closing\" на тензоре маски\n",
    "def closing(mask_tensor, kernel_size=5):\n",
    "    mask_np = mask_tensor.cpu().numpy().astype(np.uint8)\n",
    "    kernel = np.ones((kernel_size, kernel_size), np.uint8)\n",
    "    closed_mask = cv2.morphologyEx(mask_np, cv2.MORPH_CLOSE, kernel)\n",
    "    return closed_mask\n",
    "\n",
    "# Функция для получения контура маски\n",
    "def get_contour(mask):\n",
    "    contours, _ = cv2.findContours(mask, cv2.RETR_EXTERNAL, cv2.CHAIN_APPROX_SIMPLE)\n",
    "    if len(contours) > 0:\n",
    "        return max(contours, key=cv2.contourArea)\n",
    "    else:\n",
    "        return None\n",
    "\n",
    "# Функция для вычисления угла поворота контура\n",
    "def get_rotation_angle(contour):\n",
    "    if contour is not None:\n",
    "        rect = cv2.minAreaRect(contour)\n",
    "        angle = rect[-1]\n",
    "        return angle\n",
    "    else:\n",
    "        return None\n",
    "\n",
    "# Функция для сравнения схожести двух контуров (с помощью метрики Хаусдорфа)\n",
    "def contour_similarity(contour1, contour2):\n",
    "    if contour1 is None or contour2 is None:\n",
    "        return None\n",
    "    # Преобразуем контуры в один массив точек\n",
    "    contour1 = np.squeeze(contour1)\n",
    "    contour2 = np.squeeze(contour2)\n",
    "    # Вычисляем расстояние Хаусдорфа\n",
    "    hausdorff_distance = max(directed_hausdorff(contour1, contour2)[0], directed_hausdorff(contour2, contour1)[0])\n",
    "    return hausdorff_distance\n",
    "\n",
    "# Главная функция для сравнения масок\n",
    "def compare_masks(mask1_tensor, mask2_tensor):\n",
    "    # Выполняем операцию closing для обеих масок\n",
    "    mask1 = closing(mask1_tensor)\n",
    "    mask2 = closing(mask2_tensor)\n",
    "\n",
    "    # Получаем контуры масок\n",
    "    contour1 = get_contour(mask1)\n",
    "    contour2 = get_contour(mask2)\n",
    "\n",
    "    # Вычисляем углы поворота для обоих контуров\n",
    "    angle1 = get_rotation_angle(contour1)\n",
    "    angle2 = get_rotation_angle(contour2)\n",
    "\n",
    "    if angle1 is not None and angle2 is not None:\n",
    "        angle_difference = abs(angle1 - angle2)\n",
    "        print(f\"Разница в углах: {angle_difference} градусов\")\n",
    "    else:\n",
    "        print(\"Не удалось найти контуры для одной из масок\")\n",
    "\n",
    "    # Сравниваем схожесть контуров\n",
    "    similarity = contour_similarity(contour1, contour2)\n",
    "    if similarity is not None:\n",
    "        print(f\"Схожесть контуров (метрика Хаусдорфа): {similarity}\")\n",
    "    else:\n",
    "        print(\"Не удалось найти контуры для одной из масок\")"
   ]
  },
  {
   "cell_type": "code",
   "execution_count": 5,
   "metadata": {},
   "outputs": [
    {
     "name": "stdout",
     "output_type": "stream",
     "text": [
      "\n",
      "image 1/1 /media/timofeym/hddb5/programming/Python/DataScience&ML/OpenCodeTest/images/frame_117.jpg: 384x640 1 YellowOring, 1 GreyOring, 12.4ms\n",
      "Speed: 2.0ms preprocess, 12.4ms inference, 2.1ms postprocess per image at shape (1, 3, 384, 640)\n",
      "Results saved to \u001b[1mruns/segment/predict2\u001b[0m\n",
      "\n",
      "image 1/1 /media/timofeym/hddb5/programming/Python/DataScience&ML/OpenCodeTest/images/frame_143.jpg: 384x640 1 YellowOring, 1 GreyOring, 12.1ms\n",
      "Speed: 1.7ms preprocess, 12.1ms inference, 2.8ms postprocess per image at shape (1, 3, 384, 640)\n",
      "Results saved to \u001b[1mruns/segment/predict2\u001b[0m\n",
      "Разница в углах: 45.0 градусов\n",
      "Схожесть контуров (метрика Хаусдорфа): 52.354560450833695\n"
     ]
    }
   ],
   "source": [
    "redOringRotated = \"frame_117.jpg\"\n",
    "redOringTemplate = \"frame_143.jpg\"\n",
    "rotated_pred = model.predict(\"./images/\"+redOringRotated, save=True,retina_masks=True,show_labels=False, show_conf=False, show_boxes=False)[0]\n",
    "temp_pred = model.predict(\"./images/frame_143.jpg\", save=True,retina_masks=True,show_labels=False, show_conf=False, show_boxes=False)[0]\n",
    "rotMask = rotated_pred.masks.data[0]\n",
    "tempMask = temp_pred.masks.data[0]\n",
    "compare_masks(rotMask, tempMask)\n"
   ]
  },
  {
   "cell_type": "code",
   "execution_count": 4,
   "metadata": {},
   "outputs": [],
   "source": []
  }
 ],
 "metadata": {
  "kernelspec": {
   "display_name": ".venv",
   "language": "python",
   "name": "python3"
  },
  "language_info": {
   "codemirror_mode": {
    "name": "ipython",
    "version": 3
   },
   "file_extension": ".py",
   "mimetype": "text/x-python",
   "name": "python",
   "nbconvert_exporter": "python",
   "pygments_lexer": "ipython3",
   "version": "3.12.3"
  }
 },
 "nbformat": 4,
 "nbformat_minor": 2
}
